{
 "cells": [
  {
   "cell_type": "code",
   "execution_count": 1,
   "metadata": {},
   "outputs": [
    {
     "name": "stdout",
     "output_type": "stream",
     "text": [
      "1\n",
      "4\n",
      "9\n",
      "16\n",
      "25\n",
      "36\n",
      "49\n",
      "64\n",
      "81\n",
      "100\n"
     ]
    }
   ],
   "source": [
    "\n",
    "#ecriver un programme qui cree ue liste de nombre de 1 a 10 et affiche chaque nombre multiplie par 2\n",
    "my_list=[1,2,3,4,5,6,7,8,9,10]\n",
    "\n",
    "for i in my_list:\n",
    "    print(i*i)\n",
    "    \n",
    "\n",
    "\n",
    "\n"
   ]
  },
  {
   "cell_type": "code",
   "execution_count": 6,
   "metadata": {},
   "outputs": [
    {
     "name": "stdout",
     "output_type": "stream",
     "text": [
      "Jean  :  4\n",
      "Paul  :  4\n",
      "Anne  :  4\n",
      "Sukuna  :  6\n"
     ]
    }
   ],
   "source": [
    "#creer une liste de noms et afficher la longueur de chaque nom en utilisant une boucle\n",
    "\n",
    "my_list=[\"Jean\",\"Paul\",\"Anne\",\"Sukuna\"]\n",
    "\n",
    "for i in my_list:\n",
    "    size = len(i)\n",
    "    print(i,\" : \",size)\n",
    "    \n",
    "\n",
    "\n"
   ]
  },
  {
   "cell_type": "code",
   "execution_count": 2,
   "metadata": {},
   "outputs": [
    {
     "name": "stdout",
     "output_type": "stream",
     "text": [
      "[9, 16, 100, 36]\n"
     ]
    }
   ],
   "source": [
    "#ecriver une fonction qui prend une liste en entree et renvoie une nouvelle liste contenant le carre de chaque element\n",
    "def sqare (liste):\n",
    "    resultat = []\n",
    "    for i in liste :\n",
    "        resultat.append(i*i)\n",
    "    return resultat\n",
    "\n",
    "liste=[3,4,10,6]\n",
    "the_sqare=sqare(liste)\n",
    "print(the_sqare)\n",
    "    "
   ]
  },
  {
   "cell_type": "code",
   "execution_count": 57,
   "metadata": {},
   "outputs": [
    {
     "name": "stdout",
     "output_type": "stream",
     "text": [
      "6\n"
     ]
    }
   ],
   "source": [
    "#creer une liste de nombres aleatoires et affichez seulement les nombres qui sont superieurs a 5\n",
    "from random import randint \n",
    "\n",
    "number_list = randint(1,6)\n",
    "if (number_list>5):\n",
    "    print(number_list)"
   ]
  },
  {
   "cell_type": "code",
   "execution_count": 4,
   "metadata": {},
   "outputs": [
    {
     "name": "stdout",
     "output_type": "stream",
     "text": [
      "Demonslayer : 11\n"
     ]
    }
   ],
   "source": [
    "# ecrivez un programme qui prend une liste de chaines de caracteres en entree et affiche la plus longue \n",
    "def max_size(liste):\n",
    "    \n",
    "    size = max(liste,key=len)\n",
    "    return size\n",
    "\n",
    "liste=['Animal','Humain','Onepiece','Demonslayer']\n",
    "\n",
    "size = max_size(liste)\n",
    "print(size,\":\",len(size))\n",
    "\n",
    "    \n",
    "\n",
    "    "
   ]
  },
  {
   "cell_type": "code",
   "execution_count": null,
   "metadata": {},
   "outputs": [],
   "source": []
  }
 ],
 "metadata": {
  "kernelspec": {
   "display_name": "Python 3",
   "language": "python",
   "name": "python3"
  },
  "language_info": {
   "codemirror_mode": {
    "name": "ipython",
    "version": 3
   },
   "file_extension": ".py",
   "mimetype": "text/x-python",
   "name": "python",
   "nbconvert_exporter": "python",
   "pygments_lexer": "ipython3",
   "version": "3.12.1"
  }
 },
 "nbformat": 4,
 "nbformat_minor": 2
}
