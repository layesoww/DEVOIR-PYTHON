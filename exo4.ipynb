{
 "cells": [
  {
   "cell_type": "code",
   "execution_count": null,
   "metadata": {},
   "outputs": [],
   "source": [
    "#Créez une fonction qui prend une liste en entrée et renvoie la liste sans les éléments en doublon"
   ]
  },
  {
   "cell_type": "code",
   "execution_count": null,
   "metadata": {},
   "outputs": [],
   "source": [
    "#Créez une fonction qui génère une liste de nombres premiers jusqu'à un nombre donné"
   ]
  },
  {
   "cell_type": "code",
   "execution_count": 1,
   "metadata": {},
   "outputs": [
    {
     "name": "stdout",
     "output_type": "stream",
     "text": [
      "[3, 6, 9, 12, 15]\n"
     ]
    }
   ],
   "source": [
    "#Écrivez un programme qui utilise la fonction map pour multiplier chaque élément d'une liste par 3.\n",
    "def triple(number):\n",
    "    \n",
    "    return number*3\n",
    "numbers = [1,2,3,4,5]\n",
    "result = list(map(triple,numbers))\n",
    "print(result)\n",
    "\n",
    "# la fonction map permet d'appliquer la fonction definie à chaque  élément de la liste ."
   ]
  },
  {
   "cell_type": "code",
   "execution_count": null,
   "metadata": {},
   "outputs": [],
   "source": []
  }
 ],
 "metadata": {
  "kernelspec": {
   "display_name": "Python 3",
   "language": "python",
   "name": "python3"
  },
  "language_info": {
   "codemirror_mode": {
    "name": "ipython",
    "version": 3
   },
   "file_extension": ".py",
   "mimetype": "text/x-python",
   "name": "python",
   "nbconvert_exporter": "python",
   "pygments_lexer": "ipython3",
   "version": "3.12.1"
  }
 },
 "nbformat": 4,
 "nbformat_minor": 2
}
