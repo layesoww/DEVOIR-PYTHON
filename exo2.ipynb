{
 "cells": [
  {
   "cell_type": "code",
   "execution_count": 2,
   "metadata": {},
   "outputs": [
    {
     "name": "stdout",
     "output_type": "stream",
     "text": [
      "[1, 2, 3]\n"
     ]
    }
   ],
   "source": [
    "#ecrivez une fonction qui prend deux listes en entree et renvoie une nouvelle liste contenant les elements communs aux deux listes\n",
    "\n",
    "def intersection(liste1, liste2):\n",
    "    # Convertir les listes en ensembles pour faciliter la recherche d'éléments communs\n",
    "    set1 = set(liste1)\n",
    "    set2 = set(liste2)\n",
    "    \n",
    "    # Trouver l'intersection des deux ensembles\n",
    "    my_intersection = set1.intersection(set2)\n",
    "    \n",
    "    # Convertir l'ensemble d'intersection en liste et le renvoyer\n",
    "    return list(my_intersection)\n",
    "\n",
    "list1 = [1,2,3,5,6,7]\n",
    "list2 = [1,2,3]\n",
    "print(intersection(list1,list2))\n"
   ]
  },
  {
   "cell_type": "code",
   "execution_count": 6,
   "metadata": {},
   "outputs": [
    {
     "name": "stdout",
     "output_type": "stream",
     "text": [
      "Ce nombre est pair\n"
     ]
    }
   ],
   "source": [
    "#creez fonction qui prend un nombre en entree et renvoie pair ou impair\n",
    "\n",
    "def pair_ou_impair(nombre):\n",
    "    if nombre % 2 == 0:\n",
    "        return \"Ce nombre est pair\"\n",
    "    else:\n",
    "        return \"Ce nombre est impair\"\n",
    "print(pair_ou_impair(8))  "
   ]
  },
  {
   "cell_type": "code",
   "execution_count": 12,
   "metadata": {},
   "outputs": [
    {
     "name": "stdout",
     "output_type": "stream",
     "text": [
      "21\n"
     ]
    }
   ],
   "source": [
    "#ecrivez une fonction qui prend une liste de nombres en entree et renvoie la somme de tous \n",
    "def somme_liste (liste_nombres):\n",
    "    \n",
    "    return sum(liste_nombres)\n",
    "\n",
    "liste_nombres = [1,2,3,4,5,6]\n",
    "a = somme_liste(liste_nombres)\n",
    "print(a)"
   ]
  },
  {
   "cell_type": "code",
   "execution_count": 19,
   "metadata": {},
   "outputs": [
    {
     "name": "stdout",
     "output_type": "stream",
     "text": [
      "['b', 'A']\n"
     ]
    }
   ],
   "source": [
    "#creez une fonction qui prend une liste de mots en entree et renvoie une nouvelle liste contenant la premiere lettre de chaque mot\n",
    "\n",
    "def first_word(liste_mots):\n",
    "    for i in liste_mots:\n",
    "        \n",
    "            return [j[0]for j in liste_mots]\n",
    "\n",
    "liste_mots=[\"bonjour\",\"Ablaye\"]\n",
    "\n",
    "a=first_word(liste_mots)\n",
    "print(a)"
   ]
  },
  {
   "cell_type": "code",
   "execution_count": 3,
   "metadata": {},
   "outputs": [
    {
     "name": "stdout",
     "output_type": "stream",
     "text": [
      "n\n"
     ]
    }
   ],
   "source": [
    "#ecrivez une fonction qui prend une chaine de caracteres en entrees et renvoie la meme chaine mais sans voyelles\n",
    "\n",
    "def no_voylles(chaine):\n",
    "    voyelles = 'aioeuAEIOU'\n",
    "    for i in chaine :\n",
    "        if i not in voyelles:\n",
    "            j=i\n",
    "            return j\n",
    "        \n",
    "\n",
    "chaine = \"Bonjour \"\n",
    "a = no_voylles(chaine)\n",
    "print(a)\n"
   ]
  },
  {
   "cell_type": "code",
   "execution_count": null,
   "metadata": {},
   "outputs": [],
   "source": []
  }
 ],
 "metadata": {
  "kernelspec": {
   "display_name": "Python 3",
   "language": "python",
   "name": "python3"
  },
  "language_info": {
   "codemirror_mode": {
    "name": "ipython",
    "version": 3
   },
   "file_extension": ".py",
   "mimetype": "text/x-python",
   "name": "python",
   "nbconvert_exporter": "python",
   "pygments_lexer": "ipython3",
   "version": "3.12.1"
  }
 },
 "nbformat": 4,
 "nbformat_minor": 2
}
