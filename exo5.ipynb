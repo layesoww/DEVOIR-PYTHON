{
 "cells": [
  {
   "cell_type": "code",
   "execution_count": 1,
   "metadata": {},
   "outputs": [
    {
     "name": "stdout",
     "output_type": "stream",
     "text": [
      "Fréquence des lettres dans le texte français:\n",
      "{'l': 2, 'e': 8, 'b': 1, 'o': 6, 'n': 3, 'h': 2, 'u': 4, 'r': 2, 's': 7, 't': 3, 'v': 2, 'd': 2, 'a': 2, 'c': 2, 'q': 1, 'i': 1}\n",
      "\n",
      "Fréquence des lettres dans le texte anglais:\n",
      "{'a': 3, 'l': 2, 'h': 2, 'i': 1, 's': 2, 't': 3, 'e': 3, 'g': 1, 'r': 1}\n"
     ]
    }
   ],
   "source": [
    "\n",
    "# Textes en français et en anglais\n",
    "texte_francais = \"Le bonheur se trouve dans les choses qui sont a cote de vous \"\n",
    "texte_anglais = \"Allah is the greatest\"\n",
    "\n",
    "# Fonction pour calculer la fréquence des lettres dans un texte\n",
    "def frequence_lettres(texte):\n",
    "    # Convertir le texte en minuscules \n",
    "    texte = texte.lower()\n",
    "    # un dictionnaire vide pour stocker la fréquence des lettres\n",
    "    freq_lettres = {}\n",
    "    # Parcourir chaque caractère dans le texte\n",
    "    for caractere in texte:\n",
    "        # Ignorer les caractères qui ne sont pas des lettres\n",
    "        if caractere.isalpha():\n",
    "            # Si la lettre est déjà dans le dictionnaire, incrémenter sa fréquence\n",
    "            if caractere in freq_lettres:\n",
    "                freq_lettres[caractere] += 1\n",
    "            # Sinon, ajouter la lettre au dictionnaire avec une fréquence de 1\n",
    "            else:\n",
    "                freq_lettres[caractere] = 1\n",
    "    return freq_lettres\n",
    "\n",
    "# Calculer la fréquence des lettres pour les textes français et anglais\n",
    "freq_francais = frequence_lettres(texte_francais)\n",
    "freq_anglais = frequence_lettres(texte_anglais)\n",
    "\n",
    "# Afficher les résultats\n",
    "print(\"Fréquence des lettres dans le texte français:\")\n",
    "print(freq_francais)\n",
    "print(\"\\nFréquence des lettres dans le texte anglais:\")\n",
    "print(freq_anglais)\n",
    "\n",
    "\n"
   ]
  },
  {
   "cell_type": "code",
   "execution_count": null,
   "metadata": {},
   "outputs": [],
   "source": []
  }
 ],
 "metadata": {
  "kernelspec": {
   "display_name": "Python 3",
   "language": "python",
   "name": "python3"
  },
  "language_info": {
   "codemirror_mode": {
    "name": "ipython",
    "version": 3
   },
   "file_extension": ".py",
   "mimetype": "text/x-python",
   "name": "python",
   "nbconvert_exporter": "python",
   "pygments_lexer": "ipython3",
   "version": "3.12.1"
  }
 },
 "nbformat": 4,
 "nbformat_minor": 2
}
