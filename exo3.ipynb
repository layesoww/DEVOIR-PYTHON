{
 "cells": [
  {
   "cell_type": "code",
   "execution_count": null,
   "metadata": {},
   "outputs": [],
   "source": [
    "#Créez une liste de nombres et écrivez une fonction qui renvoie la médiane de cette liste"
   ]
  },
  {
   "cell_type": "code",
   "execution_count": 21,
   "metadata": {},
   "outputs": [
    {
     "name": "stdout",
     "output_type": "stream",
     "text": [
      "['janvier', 'aaaaaaa']\n"
     ]
    }
   ],
   "source": [
    "#Écrivez une fonction qui prend une liste de chaînes de caractères en entrée et renvoie une nouvelle liste contenant seulement les chaînes de plus de 5 caractères\n",
    "def string(chaines):\n",
    "            return [ i for i in chaines\n",
    "                    if len(i)>5]\n",
    "chaines=['janvier','mars']\n",
    "my_string=string(chaines)\n",
    "print(my_string)\n",
    "\n",
    "\n"
   ]
  },
  {
   "cell_type": "code",
   "execution_count": 22,
   "metadata": {},
   "outputs": [
    {
     "name": "stdout",
     "output_type": "stream",
     "text": [
      "La moyenne de la liste est : 17.5\n"
     ]
    }
   ],
   "source": [
    "#Créez une liste de nombres et écrivez un programme qui calcule la moyenne de ces nombres sans utiliser la fonction `sum`.\n",
    "def moyenne (liste_nombres):\n",
    "    somme=0\n",
    "    compteur=0\n",
    "    for i in liste_nombres:\n",
    "        somme = somme + i\n",
    "        compteur = compteur+1\n",
    "    M = somme / compteur\n",
    "    return M\n",
    "a = [10,15,20,25]\n",
    "La_moyenne = moyenne(a)\n",
    "print(\"La moyenne de la liste est :\", La_moyenne)"
   ]
  },
  {
   "cell_type": "code",
   "execution_count": 24,
   "metadata": {},
   "outputs": [
    {
     "name": "stdout",
     "output_type": "stream",
     "text": [
      "la liste inverse est :  [66, 45, 3, 2, 1]\n"
     ]
    }
   ],
   "source": [
    "#Écrivez une fonction qui prend une liste en entrée et renvoie la liste inversée.\n",
    "def liste_inverse(liste):\n",
    "    return liste[::-1]\n",
    "my_list=[1,2,3,45,66]\n",
    "inverse = liste_inverse(my_list)\n",
    "print(\"la liste inverse est : \",inverse)"
   ]
  },
  {
   "cell_type": "code",
   "execution_count": null,
   "metadata": {},
   "outputs": [],
   "source": [
    "#Créez une liste de noms et affichez les noms qui contiennent la lettre \"a\".\n"
   ]
  }
 ],
 "metadata": {
  "kernelspec": {
   "display_name": "Python 3",
   "language": "python",
   "name": "python3"
  },
  "language_info": {
   "codemirror_mode": {
    "name": "ipython",
    "version": 3
   },
   "file_extension": ".py",
   "mimetype": "text/x-python",
   "name": "python",
   "nbconvert_exporter": "python",
   "pygments_lexer": "ipython3",
   "version": "3.12.1"
  }
 },
 "nbformat": 4,
 "nbformat_minor": 2
}
